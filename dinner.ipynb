{
 "cells": [
  {
   "cell_type": "code",
   "execution_count": 1,
   "metadata": {},
   "outputs": [
    {
     "name": "stdout",
     "output_type": "stream",
     "text": [
      "和風醬麵黃金豬排要泡菜加大\n"
     ]
    }
   ],
   "source": [
    "def dinner(restaurant, rn, s, md, k, b):\n",
    "    if restaurant=='涼麵屋':\n",
    "        rice_of_noodle=['麵','飯']\n",
    "        sauce=['芝麻醬','和風醬']\n",
    "        maindish=['巨雞排','巨雞腿','巨熱狗','黃金豬排','吮指雞球','海鮮卷','招牌','雞絲','旗艦']\n",
    "        kimchi=['要泡菜','不要泡菜']\n",
    "        bigggg=['正常','加大']\n",
    "    myDinner=sauce[s]+rice_of_noodle[rn]+maindish[md]+kimchi[k]+bigggg[b]\n",
    "    return myDinner\n",
    "\n",
    "print(dinner('涼麵屋', 0, 1, 3, 0, 1))"
   ]
  },
  {
   "cell_type": "code",
   "execution_count": null,
   "metadata": {},
   "outputs": [],
   "source": []
  }
 ],
 "metadata": {
  "kernelspec": {
   "display_name": "Python 3",
   "language": "python",
   "name": "python3"
  },
  "language_info": {
   "codemirror_mode": {
    "name": "ipython",
    "version": 3
   },
   "file_extension": ".py",
   "mimetype": "text/x-python",
   "name": "python",
   "nbconvert_exporter": "python",
   "pygments_lexer": "ipython3",
   "version": "3.6.8"
  }
 },
 "nbformat": 4,
 "nbformat_minor": 2
}
